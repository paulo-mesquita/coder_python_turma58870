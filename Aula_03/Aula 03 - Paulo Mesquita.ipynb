{
 "cells": [
  {
   "cell_type": "markdown",
   "metadata": {},
   "source": [
    "# ATIVIDADE EM SALA - Momento mão na massa\n",
    "\n",
    "## Descrição da atividade:"
   ]
  },
  {
   "cell_type": "markdown",
   "metadata": {},
   "source": [
    "- Escreva um programa que receba um número inteiro e exiba se ele é par ou ímpar."
   ]
  },
  {
   "cell_type": "code",
   "execution_count": 1,
   "metadata": {},
   "outputs": [
    {
     "name": "stdout",
     "output_type": "stream",
     "text": [
      "O número é ímpar.\n"
     ]
    }
   ],
   "source": [
    "numero = int(input(\"Digite um número inteiro: \"))\n",
    "if numero % 2 == 0:\n",
    "    print(\"O número é par.\")\n",
    "else:\n",
    "    print(\"O número é ímpar.\")\n"
   ]
  },
  {
   "cell_type": "markdown",
   "metadata": {},
   "source": [
    "- Escreva um programa em Python que solicita ao usuário uma frase e, em seguida, exibe cada palavra e seu número de caracteres."
   ]
  },
  {
   "cell_type": "code",
   "execution_count": 2,
   "metadata": {},
   "outputs": [
    {
     "name": "stdout",
     "output_type": "stream",
     "text": [
      "A palavra 'oi' tem 2 caracteres.\n",
      "A palavra 'tudo' tem 4 caracteres.\n",
      "A palavra 'bem' tem 3 caracteres.\n"
     ]
    }
   ],
   "source": [
    "frase = input(\"Digite uma frase: \")\n",
    "palavras = frase.split()\n",
    "for palavra in palavras:\n",
    "    print(f\"A palavra '{palavra}' tem {len(palavra)} caracteres.\")\n"
   ]
  },
  {
   "cell_type": "markdown",
   "metadata": {},
   "source": [
    "- Crie um programa em Python que solicita ao usuário uma senha numérica de 4 dígitos. O programa deve repetir essa solicitação até que o usuário informe a senha correta (1234)."
   ]
  },
  {
   "cell_type": "code",
   "execution_count": 10,
   "metadata": {},
   "outputs": [
    {
     "name": "stdout",
     "output_type": "stream",
     "text": [
      "Senha invalida\n",
      "Senha invalida\n",
      "Senha invalida\n",
      "Senha invalida\n",
      "Senha correta\n"
     ]
    }
   ],
   "source": [
    "senha_correta = \"1234\"\n",
    "senha = input(\"Digite uma senha numérica de 4 dígitos: \")\n",
    "while senha != senha_correta:\n",
    "    senha = input(\"Senha incorreta. Tente novamente: \")\n",
    "    if senha != '1234':\n",
    "      print(\"Senha invalida\")\n",
    "    else:\n",
    "      print(\"Senha correta\")\n"
   ]
  },
  {
   "cell_type": "markdown",
   "metadata": {},
   "source": [
    "- Escreva um programa que dado um valor n calcula o fatorial de n."
   ]
  },
  {
   "cell_type": "code",
   "execution_count": 11,
   "metadata": {},
   "outputs": [
    {
     "name": "stdout",
     "output_type": "stream",
     "text": [
      "O fatorial de 4 é 24.\n"
     ]
    }
   ],
   "source": [
    "n = int(input(\"Digite um número: \"))\n",
    "fatorial = 1\n",
    "for i in range(1, n + 1):\n",
    "    fatorial *= i\n",
    "print(f\"O fatorial de {n} é {fatorial}.\")\n"
   ]
  },
  {
   "cell_type": "markdown",
   "metadata": {},
   "source": [
    "- Crie um dicionário com os dados da tabela ao lado, crie um loop para exibir os valores.\n",
    "\n",
    "## Tabela\n",
    "\n",
    "| Mês      | Quantidade |\n",
    "|----------|------------|\n",
    "| Janeiro  | 232        |\n",
    "| Fevereiro| 321        |\n",
    "| Junho    | 589        |\n",
    "| Julho    | 547        |"
   ]
  },
  {
   "cell_type": "code",
   "execution_count": 12,
   "metadata": {},
   "outputs": [
    {
     "name": "stdout",
     "output_type": "stream",
     "text": [
      "No mês de Janeiro, a quantidade é 232.\n",
      "No mês de Fevereiro, a quantidade é 321.\n",
      "No mês de Junho, a quantidade é 589.\n",
      "No mês de Julho, a quantidade é 547.\n"
     ]
    }
   ],
   "source": [
    "############\n",
    "tabela = {\n",
    "    \"Janeiro\": 232,\n",
    "    \"Fevereiro\": 321,\n",
    "    \"Junho\": 589,\n",
    "    \"Julho\": 547\n",
    "}\n",
    "for mes, quantidade in tabela.items():\n",
    "    print(f\"No mês de {mes}, a quantidade é {quantidade}.\")\n"
   ]
  }
 ],
 "metadata": {
  "kernelspec": {
   "display_name": "Python 3",
   "language": "python",
   "name": "python3"
  },
  "language_info": {
   "codemirror_mode": {
    "name": "ipython",
    "version": 3
   },
   "file_extension": ".py",
   "mimetype": "text/x-python",
   "name": "python",
   "nbconvert_exporter": "python",
   "pygments_lexer": "ipython3",
   "version": "3.11.4"
  }
 },
 "nbformat": 4,
 "nbformat_minor": 2
}
