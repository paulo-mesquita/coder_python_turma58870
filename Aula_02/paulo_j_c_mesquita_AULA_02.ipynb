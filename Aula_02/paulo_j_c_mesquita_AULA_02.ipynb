{
 "cells": [
  {
   "cell_type": "markdown",
   "metadata": {},
   "source": [
    "# DESAFIO FORA DE SALA - Atividade para praticar\n",
    "\n",
    "## Formato:\n",
    "Escreva um código `.ipynb` ou `.py` com a resolução de cada exercício.\n",
    "\n",
    "## Sugestões:\n",
    "- Interprete o problema;\n",
    "- Pense/Planeje a solução;\n",
    "- Construa o código;\n",
    "- Valide o resultado.\n"
   ]
  },
  {
   "cell_type": "markdown",
   "metadata": {},
   "source": [
    "### 1. Calcule o IMC (Índice de Massa Corporal)\n",
    "Escreva um programa em Python que solicite ao usuário o peso em kg e a altura em metros, calcule e imprima o valor do IMC."
   ]
  },
  {
   "cell_type": "code",
   "execution_count": 3,
   "metadata": {},
   "outputs": [
    {
     "name": "stdout",
     "output_type": "stream",
     "text": [
      "Seu IMC é: 31.09789075175771\n"
     ]
    }
   ],
   "source": [
    "peso = float(input(\"Digite seu peso em kg: \"))\n",
    "altura = float(input(\"Digite sua altura em metros: (Exemplo 1.72 = 1 metro e 72 centímetros)\"))\n",
    "imc = peso / (altura ** 2)\n",
    "print(\"Seu IMC é:\", imc)\n"
   ]
  },
  {
   "cell_type": "markdown",
   "metadata": {},
   "source": [
    "### 2. Crie uma lista com 5 valores inteiros\n",
    "Faça um programa que inicie uma lista vazia e permita que o usuário insira 5 valores inteiros."
   ]
  },
  {
   "cell_type": "code",
   "execution_count": 8,
   "metadata": {},
   "outputs": [
    {
     "name": "stdout",
     "output_type": "stream",
     "text": [
      "Sua lista é: [1, 2, 23, 2, 2]\n"
     ]
    }
   ],
   "source": [
    "#############################\n",
    "lista = []\n",
    "num1 = int(input(\"Digite o primeiro número: \"))\n",
    "lista.append(num1)\n",
    "num2 = int(input(\"Digite o segundo número: \"))\n",
    "lista.append(num2)\n",
    "num3 = int(input(\"Digite o terceiro número: \"))\n",
    "lista.append(num3)\n",
    "num4 = int(input(\"Digite o quarto número: \"))\n",
    "lista.append(num4)\n",
    "num5 = int(input(\"Digite o quinto número: \"))\n",
    "lista.append(num5)\n",
    "print(\"Conteúdo lista é:\", lista)\n"
   ]
  },
  {
   "cell_type": "markdown",
   "metadata": {},
   "source": [
    "ou:"
   ]
  },
  {
   "cell_type": "code",
   "execution_count": 2,
   "metadata": {},
   "outputs": [
    {
     "name": "stdout",
     "output_type": "stream",
     "text": [
      "Erro! Você não digitou um número inteiro. Tente novamente.\n",
      "Erro! Você não digitou um número inteiro. Tente novamente.\n",
      "Conteúdo da lista é: [1, 1, 1, 1, 1]\n"
     ]
    }
   ],
   "source": [
    "lista = []\n",
    "i = 0\n",
    "\n",
    "while i < 5:\n",
    "    num = input(f\"Digite o {i+1}º número: \")\n",
    "    if num.isdigit():\n",
    "        lista.append(int(num))\n",
    "        i += 1\n",
    "    else:\n",
    "        print(\"Erro! Você não digitou um número inteiro. Tente novamente.\")\n",
    "\n",
    "print(\"Conteúdo da lista é:\", lista)\n"
   ]
  },
  {
   "cell_type": "markdown",
   "metadata": {},
   "source": [
    "### 3. Transforme uma lista de nomes em strings\n",
    "Peça ao usuário para digitar uma lista de nomes separados por vírgula e converta essa lista em uma lista de strings."
   ]
  },
  {
   "cell_type": "code",
   "execution_count": 3,
   "metadata": {},
   "outputs": [
    {
     "name": "stdout",
     "output_type": "stream",
     "text": [
      "['sc', 'r']\n"
     ]
    }
   ],
   "source": [
    "nomes = input(\"Digite uma lista de nomes, separados por vírgula: \")\n",
    "\n",
    "# Converte a string em uma lista de nomes\n",
    "lista_de_nomes = nomes.split(',')\n",
    "\n",
    "# Remove espaços em branco no início e no final de cada nome\n",
    "lista_de_nomes = [nome.strip() for nome in lista_de_nomes]\n",
    "\n",
    "print(lista_de_nomes)\n"
   ]
  }
 ],
 "metadata": {
  "kernelspec": {
   "display_name": "Python 3",
   "language": "python",
   "name": "python3"
  },
  "language_info": {
   "codemirror_mode": {
    "name": "ipython",
    "version": 3
   },
   "file_extension": ".py",
   "mimetype": "text/x-python",
   "name": "python",
   "nbconvert_exporter": "python",
   "pygments_lexer": "ipython3",
   "version": "3.11.4"
  }
 },
 "nbformat": 4,
 "nbformat_minor": 2
}
