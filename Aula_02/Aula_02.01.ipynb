{
 "cells": [
  {
   "cell_type": "markdown",
   "metadata": {},
   "source": [
    "Primeira Pergunta: Para criar uma variável chamada saldo, atribuir um valor e subtrair um valor de saque inserido pelo usuário, imprimindo o novo saldo:"
   ]
  },
  {
   "cell_type": "code",
   "execution_count": 1,
   "metadata": {},
   "outputs": [
    {
     "name": "stdout",
     "output_type": "stream",
     "text": [
      "Seu novo saldo é 910.60\n"
     ]
    }
   ],
   "source": [
    "saldo = 950.60\n",
    "saque = float(input(\"Quanto dinheiro você deseja sacar? \"))\n",
    "saldo -= saque\n",
    "print(f\"Seu novo saldo é {saldo:.2f}\")\n"
   ]
  },
  {
   "cell_type": "markdown",
   "metadata": {},
   "source": [
    "Segunda Pergunta: Para criar uma lista com cinco nomes de frutas, onde o usuário insere os nomes sem repetições:"
   ]
  },
  {
   "cell_type": "code",
   "execution_count": null,
   "metadata": {},
   "outputs": [],
   "source": [
    "frutas = []\n",
    "\n",
    "while len(frutas) < 5:\n",
    "    fruta = input(\"Digite o nome de uma fruta: \").lower()\n",
    "    if fruta not in frutas:\n",
    "        frutas.append(fruta)\n",
    "        print(f\"{fruta} adicionada à lista.\")\n",
    "    else:\n",
    "        print(f\"{fruta} já está na lista.\")\n",
    "\n",
    "print(\"Lista de frutas:\", \", \".join(frutas))\n"
   ]
  },
  {
   "cell_type": "code",
   "execution_count": 4,
   "metadata": {},
   "outputs": [
    {
     "name": "stdout",
     "output_type": "stream",
     "text": [
      "pera já está na lista.\n"
     ]
    }
   ],
   "source": [
    "frutas = [\"pera\", \"uva\", \"maçã\", \"caju\", \"abacaxi\"]\n",
    "\n",
    "resposta = input(\"Digite o nome de uma fruta: \")\n",
    "\n",
    "if resposta in frutas:\n",
    "  print(f\"{resposta} já está na lista.\")\n",
    "else:\n",
    "  print(f\"{resposta} não está na lista.\")\n"
   ]
  },
  {
   "cell_type": "markdown",
   "metadata": {},
   "source": [
    "Terceira Pergunta: Para solicitar ao usuário para digitar uma frase e substituir todas as vogais por asteriscos:"
   ]
  },
  {
   "cell_type": "code",
   "execution_count": 2,
   "metadata": {},
   "outputs": [
    {
     "name": "stdout",
     "output_type": "stream",
     "text": [
      "** t*d* b*m\n"
     ]
    }
   ],
   "source": [
    "frase = input(\"Digite uma frase: \")\n",
    "nova_frase = ''\n",
    "for vogais in frase:\n",
    "    if vogais.lower() in 'aeiou':\n",
    "        nova_frase += '*'\n",
    "    else:\n",
    "        nova_frase += vogais\n",
    "print(nova_frase)"
   ]
  },
  {
   "cell_type": "code",
   "execution_count": 6,
   "metadata": {},
   "outputs": [],
   "source": [
    "frase = input(\"Digite uma frase: \")\n",
    "nova_frase = ''.join('*' if c.lower() in 'aeiou' else c for c in frase)\n",
    "print(nova_frase)"
   ]
  },
  {
   "cell_type": "markdown",
   "metadata": {},
   "source": [
    "# Atividade:"
   ]
  },
  {
   "cell_type": "markdown",
   "metadata": {},
   "source": [
    "DESAFIO FORA DE SALA - Atividade para praticar\n",
    "\n",
    "Descrição:\n",
    "\n",
    "Calcule o IMC (Índice de Massa Corporal): Escreva um programa em Python que solicite ao usuário o peso em kg e a altura em metros, calcule e imprima o valor do IMC.\n",
    "Crie uma lista com 5 valores inteiros: Faça um programa que inicie uma lista vazia e permita que o usuário insira 5 valores inteiros.\n",
    "Transforme uma lista de nomes em strings: Peça ao usuário para digitar uma lista de nomes separados por vírgula e converta essa lista em uma lista de strings.\n",
    "\n",
    "Formato:\n",
    "Escreva um código .ipynb ou .py com a resolução de cada exercício.\n",
    "\n",
    "Sugestões:\n",
    "Interprete o problema;\n",
    "Pense/Planeje a solução;\n",
    "Construa o código;\n",
    "Valide o resultado."
   ]
  },
  {
   "cell_type": "code",
   "execution_count": null,
   "metadata": {},
   "outputs": [],
   "source": []
  }
 ],
 "metadata": {
  "kernelspec": {
   "display_name": "Python 3",
   "language": "python",
   "name": "python3"
  },
  "language_info": {
   "codemirror_mode": {
    "name": "ipython",
    "version": 3
   },
   "file_extension": ".py",
   "mimetype": "text/x-python",
   "name": "python",
   "nbconvert_exporter": "python",
   "pygments_lexer": "ipython3",
   "version": "3.11.4"
  }
 },
 "nbformat": 4,
 "nbformat_minor": 2
}
