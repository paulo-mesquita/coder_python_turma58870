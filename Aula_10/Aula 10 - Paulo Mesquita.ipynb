{
 "cells": [
  {
   "cell_type": "code",
   "execution_count": 1,
   "metadata": {},
   "outputs": [
    {
     "name": "stdout",
     "output_type": "stream",
     "text": [
      "\n",
      "Resultado do Left Join:\n",
      "   A  B     C\n",
      "0  4  a   NaN\n",
      "1  2  b  10.0\n",
      "2  1  c   NaN\n",
      "3  3  d  20.0\n",
      "\n",
      "Resultado do Right Join:\n",
      "   A    B   C\n",
      "0  2    b  10\n",
      "1  3    d  20\n",
      "2  5  NaN  30\n",
      "\n",
      "Resultado do Inner Join:\n",
      "   A  B   C\n",
      "0  2  b  10\n",
      "1  3  d  20\n",
      "\n",
      "Resultado do Outer Join:\n",
      "   A    B     C\n",
      "0  1    c   NaN\n",
      "1  2    b  10.0\n",
      "2  3    d  20.0\n",
      "3  4    a   NaN\n",
      "4  5  NaN  30.0\n"
     ]
    }
   ],
   "source": [
    "# Importações\n",
    "import pandas as pd\n",
    "\n",
    "# Pergunta 1: Aplique as quatro formas de join estudadas nos seguintes dataframes:\n",
    "df1 = pd.DataFrame({'A': [4, 2, 1, 3], 'B': ['a', 'b', 'c', 'd']})\n",
    "df2 = pd.DataFrame({'A': [2, 3, 5], 'C': [10, 20, 30]})\n",
    "\n",
    "# Realizando os quatro tipos de join\n",
    "\n",
    "result_left = pd.merge(df1, df2, on='A', how='left')\n",
    "result_right = pd.merge(df1, df2, on='A', how='right')\n",
    "result_inner = pd.merge(df1, df2, on='A', how='inner')\n",
    "result_outer = pd.merge(df1, df2, on='A', how='outer')\n",
    "\n",
    "print(\"\\nResultado do Left Join:\")\n",
    "print(result_left)\n",
    "\n",
    "print(\"\\nResultado do Right Join:\")\n",
    "print(result_right)\n",
    "\n",
    "print(\"\\nResultado do Inner Join:\")\n",
    "print(result_inner)\n",
    "\n",
    "print(\"\\nResultado do Outer Join:\")\n",
    "print(result_outer)\n"
   ]
  },
  {
   "cell_type": "code",
   "execution_count": null,
   "metadata": {},
   "outputs": [],
   "source": [
    "# Pergunta 2: Ordene a saída do outer join anterior por A e depois pelas colunas (ajustar índices).\n",
    "result_outer_sorted = result_outer.sort_values(by=['A', 'B', 'C']).reset_index(drop=True)\n",
    "print(\"\\nResultado do Outer Join Ordenado:\")\n",
    "print(result_outer_sorted)"
   ]
  },
  {
   "cell_type": "code",
   "execution_count": 2,
   "metadata": {},
   "outputs": [
    {
     "name": "stdout",
     "output_type": "stream",
     "text": [
      "\n",
      "Concatenação por Linhas:\n",
      "   A    B     C\n",
      "0  4    a   NaN\n",
      "1  2    b   NaN\n",
      "2  1    c   NaN\n",
      "3  3    d   NaN\n",
      "4  2  NaN  10.0\n",
      "5  3  NaN  20.0\n",
      "6  5  NaN  30.0\n",
      "\n",
      "Concatenação por Colunas:\n",
      "   A  B    A     C\n",
      "0  4  a  2.0  10.0\n",
      "1  2  b  3.0  20.0\n",
      "2  1  c  5.0  30.0\n",
      "3  3  d  NaN   NaN\n"
     ]
    }
   ],
   "source": [
    "# Pergunta 3: Concatenar df1 e df2 em formato de linhas e depois colunas (ajustar índices).\n",
    "result_concat_rows = pd.concat([df1, df2], axis=0).reset_index(drop=True)\n",
    "result_concat_columns = pd.concat([df1, df2], axis=1).reset_index(drop=True)\n",
    "print(\"\\nConcatenação por Linhas:\")\n",
    "print(result_concat_rows)\n",
    "print(\"\\nConcatenação por Colunas:\")\n",
    "print(result_concat_columns)"
   ]
  },
  {
   "cell_type": "code",
   "execution_count": 5,
   "metadata": {},
   "outputs": [
    {
     "data": {
      "text/html": [
       "<div>\n",
       "<style scoped>\n",
       "    .dataframe tbody tr th:only-of-type {\n",
       "        vertical-align: middle;\n",
       "    }\n",
       "\n",
       "    .dataframe tbody tr th {\n",
       "        vertical-align: top;\n",
       "    }\n",
       "\n",
       "    .dataframe thead th {\n",
       "        text-align: right;\n",
       "    }\n",
       "</style>\n",
       "<table border=\"1\" class=\"dataframe\">\n",
       "  <thead>\n",
       "    <tr style=\"text-align: right;\">\n",
       "      <th></th>\n",
       "      <th>B</th>\n",
       "      <th>A</th>\n",
       "    </tr>\n",
       "  </thead>\n",
       "  <tbody>\n",
       "    <tr>\n",
       "      <th>0</th>\n",
       "      <td>a</td>\n",
       "      <td>4</td>\n",
       "    </tr>\n",
       "    <tr>\n",
       "      <th>1</th>\n",
       "      <td>b</td>\n",
       "      <td>2</td>\n",
       "    </tr>\n",
       "    <tr>\n",
       "      <th>2</th>\n",
       "      <td>c</td>\n",
       "      <td>1</td>\n",
       "    </tr>\n",
       "    <tr>\n",
       "      <th>3</th>\n",
       "      <td>d</td>\n",
       "      <td>3</td>\n",
       "    </tr>\n",
       "  </tbody>\n",
       "</table>\n",
       "</div>"
      ],
      "text/plain": [
       "   B  A\n",
       "0  a  4\n",
       "1  b  2\n",
       "2  c  1\n",
       "3  d  3"
      ]
     },
     "execution_count": 5,
     "metadata": {},
     "output_type": "execute_result"
    }
   ],
   "source": [
    "# Pergunta 4: Calcule a soma da coluna A por agrupamento da coluna B no df1.\n",
    "df1.groupby('B').sum().reset_index()\n"
   ]
  }
 ],
 "metadata": {
  "kernelspec": {
   "display_name": "Python 3",
   "language": "python",
   "name": "python3"
  },
  "language_info": {
   "codemirror_mode": {
    "name": "ipython",
    "version": 3
   },
   "file_extension": ".py",
   "mimetype": "text/x-python",
   "name": "python",
   "nbconvert_exporter": "python",
   "pygments_lexer": "ipython3",
   "version": "3.11.4"
  }
 },
 "nbformat": 4,
 "nbformat_minor": 2
}
