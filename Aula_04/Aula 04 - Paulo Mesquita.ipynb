{
 "cells": [
  {
   "cell_type": "markdown",
   "metadata": {},
   "source": [
    "# Aula 04:\n",
    "- Momento mão na massa"
   ]
  },
  {
   "cell_type": "markdown",
   "metadata": {},
   "source": [
    "1. **Função Lambda para Verificar Múltiplos de Dez:**\n",
    "   - Crie uma função lambda chamada `eh_multiplo_dez()` que retorna `True` se um determinado número é múltiplo de 10 e `False` caso contrário."
   ]
  },
  {
   "cell_type": "code",
   "execution_count": null,
   "metadata": {},
   "outputs": [],
   "source": [
    "#\n",
    "num = int(input(\"Digite um número: \"))\n",
    "eh_multiplo_dez = lambda x: x % 10 == 0\n",
    "print(eh_multiplo_dez(num))"
   ]
  },
  {
   "cell_type": "markdown",
   "metadata": {},
   "source": [
    "2. **Função para Calcular Fatorial:**\n",
    "   - Converta o programa de cálculo de fatorial da aula anterior para uma função. A função recebe como argumento o `n` e retorna o fatorial de `n`."
   ]
  },
  {
   "cell_type": "code",
   "execution_count": 13,
   "metadata": {},
   "outputs": [
    {
     "name": "stdout",
     "output_type": "stream",
     "text": [
      "720\n"
     ]
    }
   ],
   "source": [
    "#\n",
    "def fatorial(n):\n",
    "    if n == 0 or n == 1:\n",
    "        return 1\n",
    "    else:\n",
    "        return n * fatorial(n - 1)\n",
    "\n",
    "num = int(input(\"Digite um número para calcular o fatorial: \"))\n",
    "print(fatorial(num))"
   ]
  },
  {
   "cell_type": "markdown",
   "metadata": {},
   "source": [
    "4. **Função para Extrair o Primeiro Nome:**\n",
    "   - Crie uma função `primeiro_nome` que recebe uma string nome completo e retorna somente o primeiro nome. Em seguida, use a função `map` para aplicar à função à lista de strings: nomes - ['João Carlos', 'Maria Eduarda', 'Ana Rute', 'Ana Clara']"
   ]
  },
  {
   "cell_type": "code",
   "execution_count": 1,
   "metadata": {},
   "outputs": [
    {
     "name": "stdout",
     "output_type": "stream",
     "text": [
      "['d']\n"
     ]
    }
   ],
   "source": [
    "#\n",
    "def primeiro_nome(nome_completo):\n",
    "    return nome_completo.split()[0]\n",
    "\n",
    "nomes = input(\"Digite uma lista de nomes completos, separados por vírgula: \").split(',')\n",
    "primeiros_nomes = list(map(primeiro_nome, nomes))\n",
    "print(primeiros_nomes)"
   ]
  },
  {
   "cell_type": "markdown",
   "metadata": {},
   "source": [
    "6. **Função para Determinar o Dia da Semana de uma Data:**\n",
    "   - Escreva uma função que receba uma data no formato `dd/mm/aaaa` e retorne o dia da semana correspondente (Monday, Tuesday, etc.)."
   ]
  },
  {
   "cell_type": "code",
   "execution_count": null,
   "metadata": {},
   "outputs": [],
   "source": [
    "#\n",
    "from datetime import datetime\n",
    "\n",
    "def dia_da_semana(data):\n",
    "    data_formatada = datetime.strptime(data, '%d/%m/%Y')\n",
    "    # Em inglês:\n",
    "    ##dias_da_semana = ['Monday', 'Tuesday', 'Wednesday', 'Thursday', 'Friday', 'Saturday', 'Sunday']\n",
    "    # Em Português:\n",
    "    dias_da_semana = ['Segunda', 'Terça', 'Quarta', 'Quinta', 'Sexta', 'Sabado', 'Domingo']\n",
    "    return dias_da_semana[data_formatada.weekday()]\n",
    "\n",
    "data = input(\"Digite uma data no formato dd/mm/aaaa: \")\n",
    "print(dia_da_semana(data))"
   ]
  },
  {
   "cell_type": "code",
   "execution_count": 12,
   "metadata": {},
   "outputs": [
    {
     "data": {
      "text/plain": [
       "2"
      ]
     },
     "execution_count": 12,
     "metadata": {},
     "output_type": "execute_result"
    }
   ],
   "source": [
    "#\n",
    "data_formatada = datetime.strptime('15/05/2024', '%d/%m/%Y').weekday()\n",
    "data_formatada"
   ]
  }
 ],
 "metadata": {
  "kernelspec": {
   "display_name": "Python 3",
   "language": "python",
   "name": "python3"
  },
  "language_info": {
   "codemirror_mode": {
    "name": "ipython",
    "version": 3
   },
   "file_extension": ".py",
   "mimetype": "text/x-python",
   "name": "python",
   "nbconvert_exporter": "python",
   "pygments_lexer": "ipython3",
   "version": "3.11.4"
  }
 },
 "nbformat": 4,
 "nbformat_minor": 2
}
