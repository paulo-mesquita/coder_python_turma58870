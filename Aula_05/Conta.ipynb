{
 "cells": [
  {
   "cell_type": "markdown",
   "metadata": {},
   "source": [
    "# Exercício de Programação Orientada a Objetos\n",
    "\n",
    "**Objetivo:** Criar uma classe `Conta` em Python que represente uma conta bancária.\n",
    "\n",
    "## Detalhes da Classe\n",
    "\n",
    "A classe `Conta` deve ter os seguintes atributos:\n",
    "- `titular`: O nome do titular da conta.\n",
    "- `saldo`: O saldo atual da conta.\n",
    "\n",
    "A classe `Conta` deve ter os seguintes métodos:\n",
    "- `depositar(valor)`: Este método deve adicionar o valor passado como argumento ao saldo da conta.\n",
    "- `sacar(valor)`: Este método deve subtrair o valor passado como argumento do saldo da conta. Se o saldo for insuficiente, deve imprimir uma mensagem de erro.\n",
    "\n",
    "## Tarefa\n",
    "\n",
    "1. Defina a classe `Conta` com os atributos e métodos acima.\n",
    "2. Instancie a classe `Conta` com um saldo inicial.\n",
    "3. Realize algumas operações de depósito e saque para verificar se o saldo está sendo atualizado corretamente.\n"
   ]
  },
  {
   "cell_type": "code",
   "execution_count": null,
   "metadata": {},
   "outputs": [],
   "source": [
    "class Conta:\n",
    "    \"\"\"\n",
    "    Classe Conta para representar uma conta bancária. Nada muito sofisticado.\n",
    "    \"\"\"\n",
    "\n",
    "    def __init__(self, titular, saldo_inicial):\n",
    "        \"\"\"\n",
    "        Inicializa a conta com o titular e o saldo inicial.\n",
    "        \"\"\"\n",
    "        self.titular = titular\n",
    "        self.saldo = saldo_inicial\n",
    "\n",
    "    def depositar(self, valor):\n",
    "        \"\"\"\n",
    "        Deposita dinheiro na conta. Aumenta o saldo.\n",
    "        \"\"\"\n",
    "        self.saldo += valor\n",
    "        return self.saldo\n",
    "\n",
    "    def sacar(self, valor):\n",
    "        \"\"\"\n",
    "        Sacar dinheiro da conta. Diminui o saldo. Mas cuidado! Não pode sacar mais do que tem. rsrsrs\n",
    "        \"\"\"\n",
    "        if self.saldo >= valor:\n",
    "            self.saldo -= valor\n",
    "        else:\n",
    "            print(\"Saldo insuficiente!\")\n",
    "        return self.saldo\n",
    "\n",
    "# Instanciando a classe Conta\n",
    "conta = Conta('Paulo', 1000)  # Cria uma conta para o Paulo com 1000 de saldo inicial\n",
    "\n",
    "# Realizando algumas operações\n",
    "print(f\"Saldo inicial: {conta.saldo}\")  # Mostra o saldo inicial\n",
    "conta.depositar(500)  # Deposita 500 na conta\n",
    "print(f\"Saldo após depósito: {conta.saldo}\")  # Mostra o saldo após o depósito\n",
    "conta.sacar(200)  # Sacar 200 da conta\n",
    "print(f\"Saldo após saque: {conta.saldo}\")  # Mostra o saldo após o saque\n",
    "conta.sacar(2200)  # Sacar 2200 da conta - OBS, não deve funcionar pois o saldo da conta é menor que o valor do saque.\n",
    "print(f\"Saldo após saque: {conta.saldo}\")  # Mostra o saldo atual após a TENTATIVA de saque maior que o saldo.\n"
   ]
  }
 ],
 "metadata": {
  "kernelspec": {
   "display_name": "Python 3",
   "language": "python",
   "name": "python3"
  },
  "language_info": {
   "codemirror_mode": {
    "name": "ipython",
    "version": 3
   },
   "file_extension": ".py",
   "mimetype": "text/x-python",
   "name": "python",
   "nbconvert_exporter": "python",
   "pygments_lexer": "ipython3",
   "version": "3.11.4"
  }
 },
 "nbformat": 4,
 "nbformat_minor": 2
}
