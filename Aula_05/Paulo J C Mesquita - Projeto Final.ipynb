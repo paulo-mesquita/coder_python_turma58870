{
 "cells": [
  {
   "cell_type": "markdown",
   "metadata": {},
   "source": [
    "# PROJETO FINAL\n",
    "\n",
    "## Criando um alerta com notification.notify()\n",
    "\n",
    "Descrição:\n",
    "Vamos utilizar a função notification.notify() para criar uma função de alerta de falha de carregamento de base de dados (isso será usado no projeto final 😊)\n",
    "\n",
    "Aspectos a incluir:\n",
    "O código a seguir gera uma janela de alerta:\n",
    "```python\n",
    "# pip install plyer\n",
    "from plyer import notification\n",
    "notification.notify(\n",
    "    title='Título da notificação',\n",
    "    message='Mensagem da notificação',\n",
    "    app_name='Nome do aplicativo',\n",
    "    timeout=10\n",
    ")\n",
    "```\n",
    "\n",
    "A função precisa ter essa definição:\n",
    "```python\n",
    "def alerta(nivel, base, etapa):\n",
    "```\n",
    "\n",
    "### Sendo:\n",
    "- Ao chamar a função deverá gerar uma janela de alerta;\n",
    "- Exibir a mensagem \"Falha no carregamento da base {base} na etapa {etapa}\";\n",
    "- O título “Alerta Baixo” quando nivel = 1, “Alerta Médio” quando nivel = 2 e “Alerta Alto” quando nivel = 3.\n",
    "\n",
    "### Como no exemplo:\n",
    "```python\n",
    "alerta(nivel=2, base=\"CLIENTES\", etapa=\"EXTRACAO\")\n",
    "```\n",
    "\n"
   ]
  },
  {
   "cell_type": "code",
   "execution_count": null,
   "metadata": {},
   "outputs": [],
   "source": [
    "# Instalar a biblioteca:\n",
    "pip install plyer"
   ]
  },
  {
   "cell_type": "markdown",
   "metadata": {},
   "source": [
    "## Versão 01:\n",
    "    - De acordo com enunciado."
   ]
  },
  {
   "cell_type": "code",
   "execution_count": 6,
   "metadata": {},
   "outputs": [],
   "source": [
    "# Importando a biblioteca necessária\n",
    "from plyer import notification\n",
    "\n",
    "def alerta(nivel, base, etapa):\n",
    "    \"\"\"\n",
    "    Função para gerar um alerta de falha no carregamento de uma base de dados.\n",
    "\n",
    "    Parâmetros:\n",
    "    nivel (int): Nível do alerta. Pode ser 1 (Baixo), 2 (Médio) ou 3 (Alto).\n",
    "    base (str): Nome da base de dados.\n",
    "    etapa (str): Etapa do carregamento da base de dados.\n",
    "\n",
    "    Retorna:\n",
    "    None\n",
    "    \"\"\"\n",
    "    # Definindo o título do alerta com base no nível\n",
    "    if nivel == 1:\n",
    "        titulo = 'Alerta Baixo'\n",
    "    elif nivel == 2:\n",
    "        titulo = 'Alerta Médio'\n",
    "    elif nivel == 3:\n",
    "        titulo = 'Alerta Alto'\n",
    "    else:\n",
    "        titulo = 'Alerta'\n",
    "\n",
    "    # Definindo a mensagem do alerta\n",
    "    mensagem = f'Falha no carregamento da base {base} na etapa {etapa}'\n",
    "\n",
    "    # Gerando o alerta\n",
    "    notification.notify(\n",
    "        title=titulo,\n",
    "        message=mensagem,\n",
    "        app_name='Base de cadastro',\n",
    "        timeout=10\n",
    "    )\n",
    "\n",
    "alerta(nivel=2, base=\"`Student_Users`\", etapa=\"`Lesson_Four`\")\n"
   ]
  },
  {
   "cell_type": "markdown",
   "metadata": {},
   "source": [
    "## Versão 02 - (Alternativa):\n",
    "    - Com mensagens aleatórias."
   ]
  },
  {
   "cell_type": "code",
   "execution_count": 1,
   "metadata": {},
   "outputs": [],
   "source": [
    "# Importando a biblioteca necessária\n",
    "from plyer import notification\n",
    "import random\n",
    "\n",
    "def alerta(nivel, base, etapa):\n",
    "    \"\"\"\n",
    "    Função para gerar um alerta de falha no carregamento de uma base de dados.\n",
    "\n",
    "    Parâmetros:\n",
    "        nivel (int): Nível do alerta. Pode ser 1 (Baixo), 2 (Médio) ou 3 (Alto).\n",
    "        base (str): Nome da base de dados.\n",
    "        etapa (str): Etapa do carregamento da base de dados.\n",
    "\n",
    "    Retorna:\n",
    "        None\n",
    "    \"\"\"\n",
    "    # Lista de mensagens criativas para diferentes níveis de alerta\n",
    "    mensagens_criativas = [\n",
    "        \"Falha no carregamento da base {} na etapa {}\",\n",
    "        \"🔥 Opa, parece que a base de dados '{}' está pegando fogo na etapa '{}'! 🔥\",\n",
    "        \"🌟 Alerta estelar! A base de dados '{}' está se rebelando na etapa '{}'! 🌟\",\n",
    "        \"🚀 Houston, temos um problema! A base de dados '{}' está em órbita na etapa '{}'! 🚀\",\n",
    "        \"🔮 Previsão do futuro: a base de dados '{}' está lançando feitiços na etapa '{}'! 🔮\",\n",
    "        \"🎭 Drama no palco dos dados! A base '{}' está fazendo um show na etapa '{}'! 🎭\",\n",
    "        \"🤖 Cuidado, a base de dados '{}' está desenvolvendo consciência na etapa '{}'! 🤖\",\n",
    "        \"🔍 Sherlock Holmes aprova: a base de dados '{}' esconde segredos na etapa '{}'! 🔍\"\n",
    "        # Adicione mais mensagens criativas aqui!\n",
    "    ]\n",
    "\n",
    "    # Escolhendo uma mensagem criativa aleatória\n",
    "    mensagem = random.choice(mensagens_criativas).format(base, etapa)\n",
    "\n",
    "    # Gerando o alerta\n",
    "    notification.notify(\n",
    "        title=f'🔔 Alerta Nível {nivel} 🔔',\n",
    "        message=mensagem,\n",
    "        app_name='Notificação - CODERHOUSE',\n",
    "        timeout=10\n",
    "    )\n",
    "\n",
    "# Exemplo de uso da função alerta\n",
    "alerta(nivel=2, base=\"`Student_Users`\", etapa=\"`Lesson_Four`\")\n"
   ]
  }
 ],
 "metadata": {
  "kernelspec": {
   "display_name": "Python 3",
   "language": "python",
   "name": "python3"
  },
  "language_info": {
   "codemirror_mode": {
    "name": "ipython",
    "version": 3
   },
   "file_extension": ".py",
   "mimetype": "text/x-python",
   "name": "python",
   "nbconvert_exporter": "python",
   "pygments_lexer": "ipython3",
   "version": "3.11.4"
  }
 },
 "nbformat": 4,
 "nbformat_minor": 2
}
