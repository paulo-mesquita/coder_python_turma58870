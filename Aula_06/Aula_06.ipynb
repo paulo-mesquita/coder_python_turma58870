{
 "cells": [
  {
   "cell_type": "markdown",
   "metadata": {},
   "source": [
    "# Atividade em Sala\n",
    "\n",
    "## Pergunta 1\n",
    "\n",
    "Crie um array NumPy com 10 elementos inteiros aleatórios no intervalo de [0,100] e exiba os valores e o tipo de dado do array."
   ]
  },
  {
   "cell_type": "code",
   "execution_count": 19,
   "metadata": {},
   "outputs": [
    {
     "name": "stdout",
     "output_type": "stream",
     "text": [
      "Valores do array: [52 99 99 21 16 37 38 65 10 43]\n",
      "Tipo de dado do array: int32\n"
     ]
    }
   ],
   "source": [
    "import numpy as np\n",
    "\n",
    "# Criação do array\n",
    "array_numpy = np.random.randint(0, 101, 10)\n",
    "\n",
    "# Exibição dos valores e tipo de dado\n",
    "print(\"Valores do array:\", array_numpy)\n",
    "print(\"Tipo de dado do array:\", array_numpy.dtype)\n"
   ]
  },
  {
   "cell_type": "markdown",
   "metadata": {},
   "source": [
    "## Pergunta 2\n",
    "\n",
    "Crie uma matriz de 5x5 com valores aleatórios no intervalo [0,1] e encontre o valor mínimo, máximo e a média da matriz.\n"
   ]
  },
  {
   "cell_type": "code",
   "execution_count": 47,
   "metadata": {},
   "outputs": [
    {
     "name": "stdout",
     "output_type": "stream",
     "text": [
      "Valor mínimo da matriz: 0.01829766884519457\n",
      "Valor máximo da matriz: 0.9810484854346584\n",
      "Média da matriz: 0.4447803200889936\n"
     ]
    }
   ],
   "source": [
    "import numpy as np\n",
    "\n",
    "# Criação da matriz\n",
    "matriz_aleatoria = np.random.rand(5, 5)\n",
    "\n",
    "# Valor mínimo, máximo e média\n",
    "valor_minimo = matriz_aleatoria.min()\n",
    "valor_maximo = matriz_aleatoria.max()\n",
    "media = matriz_aleatoria.mean()\n",
    "\n",
    "print(\"Valor mínimo da matriz:\", valor_minimo)\n",
    "print(\"Valor máximo da matriz:\", valor_maximo)\n",
    "print(\"Média da matriz:\", media)\n"
   ]
  },
  {
   "cell_type": "markdown",
   "metadata": {},
   "source": [
    "## Pergunta 3\n",
    "\n",
    "Crie um array com 10 elementos aleatórios no intervalo [0,1]. Em seguida, crie um novo array com os \n",
    "elementos do primeiro array multiplicados por 10 e convertidos para inteiro.\n"
   ]
  },
  {
   "cell_type": "code",
   "execution_count": 48,
   "metadata": {},
   "outputs": [
    {
     "name": "stdout",
     "output_type": "stream",
     "text": [
      "Array original: [0.62958318 0.7941735  0.01406604 0.47771004 0.8714071  0.69955054\n",
      " 0.09889724 0.15852952 0.7862881  0.08412843]\n",
      "Array com elementos multiplicados por 10: [6 7 0 4 8 6 0 1 7 0]\n"
     ]
    }
   ],
   "source": [
    "import numpy as np\n",
    "\n",
    "# Criação do array original\n",
    "array_original = np.random.rand(10)\n",
    "\n",
    "# Cálculo dos elementos multiplicados por 10 e convertidos para inteiro\n",
    "array_multiplos = (array_original * 10).astype(int)\n",
    "\n",
    "print(\"Array original:\", array_original)\n",
    "print(\"Array com elementos multiplicados por 10:\", array_multiplos)\n"
   ]
  },
  {
   "cell_type": "markdown",
   "metadata": {},
   "source": [
    "## Pergunta 4\n",
    "\n",
    "Crie um array de duas dimensões com shape (3,3) e valores aleatórios inteiros no intervalo [0,9]. Substitua todos os elementos na segunda linha por -1.\n"
   ]
  },
  {
   "cell_type": "code",
   "execution_count": 64,
   "metadata": {},
   "outputs": [
    {
     "name": "stdout",
     "output_type": "stream",
     "text": [
      "Array de duas dimensões:\n",
      "[[ 7  5  8]\n",
      " [-1 -1 -1]\n",
      " [ 1  1  2]]\n"
     ]
    }
   ],
   "source": [
    "import numpy as np\n",
    "\n",
    "# Criação do array de duas dimensões\n",
    "array_2d = np.random.randint(0, 10, (3, 3))\n",
    "\n",
    "# Substituição dos elementos da segunda linha por -1\n",
    "array_2d[1, :] = -1\n",
    "\n",
    "print(\"Array de duas dimensões:\")\n",
    "print(array_2d)\n"
   ]
  },
  {
   "cell_type": "markdown",
   "metadata": {},
   "source": [
    "## Pergunta 5\n",
    "\n",
    "Crie um DataFrame com as seguintes informações:\n",
    "\n",
    "- Coluna \"fruta\": 'Banana', 'Maçã', 'Pera'\n",
    "- Coluna \"preço\": 7.90, 10.20, 11.80\n",
    "- Coluna \"quantidade\": 12, 3, 4\n"
   ]
  },
  {
   "cell_type": "code",
   "execution_count": 68,
   "metadata": {},
   "outputs": [
    {
     "name": "stdout",
     "output_type": "stream",
     "text": [
      "DataFrame:\n",
      "    fruta  preço  quantidade\n",
      "0  Banana    7.9          12\n",
      "1    Maçã   10.2           3\n",
      "2    Pera   11.8           4\n"
     ]
    }
   ],
   "source": [
    "import pandas as pd\n",
    "\n",
    "# Dados para o DataFrame\n",
    "dados = {\n",
    "    \"fruta\": ['Banana', 'Maçã', 'Pera'],\n",
    "    \"preço\": [7.90, 10.20, 11.80],\n",
    "    \"quantidade\": [12, 3, 4]\n",
    "}\n",
    "\n",
    "# Criação do DataFrame\n",
    "df = pd.DataFrame(dados)\n",
    "\n",
    "print(\"DataFrame:\")\n",
    "print(df)\n"
   ]
  }
 ],
 "metadata": {
  "kernelspec": {
   "display_name": "Python 3",
   "language": "python",
   "name": "python3"
  },
  "language_info": {
   "codemirror_mode": {
    "name": "ipython",
    "version": 3
   },
   "file_extension": ".py",
   "mimetype": "text/x-python",
   "name": "python",
   "nbconvert_exporter": "python",
   "pygments_lexer": "ipython3",
   "version": "3.11.4"
  }
 },
 "nbformat": 4,
 "nbformat_minor": 2
}
